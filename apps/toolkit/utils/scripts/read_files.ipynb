{
	"cells": [
		{
			"cell_type": "code",
			"execution_count": 1,
			"metadata": {},
			"outputs": [
				{
					"name": "stderr",
					"output_type": "stream",
					"text": [
						"\u001b[32m2025-03-02 09:43:36.328\u001b[0m | \u001b[1mINFO    \u001b[0m | \u001b[36mpackages\u001b[0m:\u001b[36m<module>\u001b[0m:\u001b[36m68\u001b[0m - \u001b[1mapps directory: /Users/thung/Documents/Me/Coding/Embedded-AI/apps\u001b[0m\n",
						"\u001b[32m2025-03-02 09:43:36.328\u001b[0m | \u001b[1mINFO    \u001b[0m | \u001b[36mpackages\u001b[0m:\u001b[36m<module>\u001b[0m:\u001b[36m69\u001b[0m - \u001b[1mToolkit path: /Users/thung/Documents/Me/Coding/Embedded-AI/apps/toolkit\u001b[0m\n",
						"\u001b[32m2025-03-02 09:43:36.329\u001b[0m | \u001b[1mINFO    \u001b[0m | \u001b[36mpackages\u001b[0m:\u001b[36m<module>\u001b[0m:\u001b[36m70\u001b[0m - \u001b[1mEnvironment files loaded:\u001b[0m\n",
						"\u001b[32m2025-03-02 09:43:36.329\u001b[0m | \u001b[1mINFO    \u001b[0m | \u001b[36mpackages\u001b[0m:\u001b[36m<module>\u001b[0m:\u001b[36m72\u001b[0m - \u001b[1m  - /Users/thung/Documents/Me/Coding/Embedded-AI/apps/ports.env\u001b[0m\n"
					]
				},
				{
					"name": "stderr",
					"output_type": "stream",
					"text": [
						"\u001b[32m2025-03-02 09:43:36.330\u001b[0m | \u001b[1mINFO    \u001b[0m | \u001b[36mpackages\u001b[0m:\u001b[36m<module>\u001b[0m:\u001b[36m72\u001b[0m - \u001b[1m  - /Users/thung/Documents/Me/Coding/Embedded-AI/apps/.env\u001b[0m\n"
					]
				}
			],
			"source": [
				"import packages"
			]
		},
		{
			"cell_type": "code",
			"execution_count": 2,
			"metadata": {},
			"outputs": [],
			"source": [
				"import os\n",
				"\n",
				"def read_content(paths: list[str], output='extracted_files.txt'):\n",
				"    content = []\n",
				"\n",
				"    for path in paths:\n",
				"        if os.path.isfile(path):\n",
				"            # If the path is a file, read its content\n",
				"            with open(path, 'r') as file:\n",
				"                content.append((path, file.read()))\n",
				"        elif os.path.isdir(path):\n",
				"            # If the path is a directory, walk through it and its subdirectories\n",
				"            for root, _, files in os.walk(path):\n",
				"                for file in files:\n",
				"                    file_path = os.path.join(root, file)\n",
				"                    try:\n",
				"                        with open(file_path, 'r') as f:\n",
				"                            content.append((file_path, f.read()))\n",
				"                    except Exception as e:\n",
				"                        print(f\"Error reading {file_path}: {e}\")\n",
				"        else:\n",
				"            print(f\"Invalid path: {path}\")\n",
				"\n",
				"    # Write content to output file\n",
				"    with open(output, 'w') as outfile:\n",
				"        outfile.write('**=== MY CODE ===**\\n\\n')\n",
				"        for file_path, file_content in content:\n",
				"            outfile.write(f'{file_path}:\\n')\n",
				"            outfile.write(f'```\\n{file_content}\\n```\\n')\n",
				"\n",
				"    print(f\"Content has been written to {output}\")"
			]
		},
		{
			"cell_type": "markdown",
			"metadata": {},
			"source": [
				"# APIs"
			]
		},
		{
			"cell_type": "code",
			"execution_count": null,
			"metadata": {},
			"outputs": [],
			"source": [
				"files = [\n",
				"\tf\"{packages.APP_PATH}/services/FastAPI.py\",\n",
				"\tf\"{packages.APP_PATH}/configs/settings.py\",\n",
				"\n",
				"\tf\"{packages.APP_PATH}/use_cases/dev/features/speech/apis.py\",\n",
				"\t# f\"{packages.APP_PATH}/use_cases/dev/features/speech/piper.py\",\n",
				"\t\n",
				"\tf\"{packages.APP_PATH}/use_cases/dev/features/rag/apis.py\",\n",
				"\n",
				"\tf\"{packages.APP_PATH}/features/agents/car/apis.py\",\n",
				"\t\n",
				"\tf\"{packages.APP_PATH}/use_cases/dev/frameworks/LlamaIndex/workflows/apis.py\",\n",
				" \n",
				"\t# f\"{packages.APP_PATH}/use_cases/EmbedAI/streamlit\",\n",
				"]\n",
				"\n",
				"read_content(files)"
			]
		},
		{
			"cell_type": "markdown",
			"metadata": {},
			"source": [
				"# Front End"
			]
		},
		{
			"cell_type": "code",
			"execution_count": null,
			"metadata": {},
			"outputs": [],
			"source": [
				"# project = \"Management\"\n",
				"# project = \"dev/stream/Camera\"\n",
				"project = \"dev/Mapbox-LLM\"\n",
				"# project = \"dev/stream/Video-WebRTC\"\n",
				"# project = \"dev/stream/Camera-WebRTC\"\n",
				"# project = \"dev/stream/Video-WebRTC-iOS\"\n",
				"\n",
				"files = [\n",
				"\tf\"{packages.ROOT_PATH}/front_end/{project}/assets\",\n",
				"\tf\"{packages.ROOT_PATH}/front_end/{project}/components\",\n",
				"\tf\"{packages.ROOT_PATH}/front_end/{project}/composables\",\n",
				"\tf\"{packages.ROOT_PATH}/front_end/{project}/data\",\n",
				"\tf\"{packages.ROOT_PATH}/front_end/{project}/configs\",\n",
				"\tf\"{packages.ROOT_PATH}/front_end/{project}/interfaces\",\n",
				"\tf\"{packages.ROOT_PATH}/front_end/{project}/layouts\",\n",
				"\tf\"{packages.ROOT_PATH}/front_end/{project}/pages\",\n",
				"\tf\"{packages.ROOT_PATH}/front_end/{project}/plugins\",\n",
				"\tf\"{packages.ROOT_PATH}/front_end/{project}/repositories\",\n",
				"\tf\"{packages.ROOT_PATH}/front_end/{project}/scripts\",\n",
				"\tf\"{packages.ROOT_PATH}/front_end/{project}/server\",\n",
				"\tf\"{packages.ROOT_PATH}/front_end/{project}/services\",\n",
				"\tf\"{packages.ROOT_PATH}/front_end/{project}/stores\",\n",
				"\tf\"{packages.ROOT_PATH}/front_end/{project}/utils\",\n",
				"\tf\"{packages.ROOT_PATH}/front_end/{project}/package.json\",\n",
				"\tf\"{packages.ROOT_PATH}/front_end/{project}/app.vue\",\n",
				"\tf\"{packages.ROOT_PATH}/front_end/{project}/.env\",\n",
				"\tf\"{packages.ROOT_PATH}/front_end/{project}/nuxt.config.ts\",\n",
				"\tf\"{packages.ROOT_PATH}/front_end/{project}/README.md\", #\n",
				"\n",
				"\t# f\"{packages.ROOT_PATH}/apps/services/stream/FastAPI-Camera-WebRTC.py\", #\n",
				"\tf\"{packages.ROOT_PATH}/apps/services/dev/stream/server.py\", #\n",
				"\tf\"{packages.ROOT_PATH}/apps/services/dev/stream/ml.py\", #\n",
				" \n",
				"]\n",
				"\n",
				"read_content(files)"
			]
		},
		{
			"cell_type": "markdown",
			"metadata": {},
			"source": [
				"# DevOps"
			]
		},
		{
			"cell_type": "code",
			"execution_count": 3,
			"metadata": {},
			"outputs": [
				{
					"name": "stdout",
					"output_type": "stream",
					"text": [
						"Content has been written to extracted_files.txt\n"
					]
				}
			],
			"source": [
				"files = [\n",
				"\tf\"{packages.ROOT_PATH}/devops/mks/services.mk\",\n",
				"\tf\"{packages.ROOT_PATH}/Makefile\",\n",
				"\t\n",
				"\tf\"{packages.ROOT_PATH}/devops/docker/servers.docker-compose.yaml\",\t\n",
				"]\n",
				"\n",
				"read_content(files)"
			]
		},
		{
			"cell_type": "code",
			"execution_count": 5,
			"metadata": {},
			"outputs": [
				{
					"name": "stdout",
					"output_type": "stream",
					"text": [
						"Content has been written to extracted_files.txt\n"
					]
				}
			],
			"source": [
				"files = [\n",
				"\tf\"{packages.ROOT_PATH}/devops/docker/services/audio/SpeechToText.Dockerfile\",\n",
				"\tf\"{packages.ROOT_PATH}/devops/docker/services.docker-compose.yaml\",\n",
				"]\n",
				"\n",
				"read_content(files)"
			]
		},
		{
			"cell_type": "markdown",
			"metadata": {},
			"source": [
				"# Apps"
			]
		},
		{
			"cell_type": "markdown",
			"metadata": {},
			"source": [
				"## Map"
			]
		},
		{
			"cell_type": "code",
			"execution_count": null,
			"metadata": {},
			"outputs": [],
			"source": [
				"files = [\n",
				"\tf\"{packages.ROOT_PATH}/apps/services/map/mapbox.py\",\n",
				"\tf\"{packages.ROOT_PATH}/apps/services/map/templates/mapbox.html\",\n",
				"\tf\"{packages.ROOT_PATH}/apps/features/agents/tools/map.py\",\n",
				"]\n",
				"\n",
				"read_content(files)"
			]
		},
		{
			"cell_type": "code",
			"execution_count": null,
			"metadata": {},
			"outputs": [],
			"source": [
				"files = [\n",
				"\t# f\"{packages.ROOT_PATH}/devops/docker/ui/NuxtJs.Camera.Dockerfile\",\n",
				"\t# f\"{packages.ROOT_PATH}/devops/docker/ui.docker-compose.yaml\",\n",
				"\tf\"{packages.ROOT_PATH}/devops/setup/nginx\",\n",
				"\t# f\"{packages.ROOT_PATH}/front_end/dev/stream/Camera/pages\",\n",
				"\t# f\"{packages.ROOT_PATH}/front_end/dev/stream/Camera/ecosystem.config.cjs\",\n",
				"\t# f\"{packages.ROOT_PATH}/front_end/dev/stream/Camera/nuxt.config.ts\",\n",
				"]\n",
				"\n",
				"read_content(files)"
			]
		},
		{
			"cell_type": "markdown",
			"metadata": {},
			"source": [
				"# Dev"
			]
		},
		{
			"cell_type": "markdown",
			"metadata": {},
			"source": [
				"## LLM"
			]
		},
		{
			"cell_type": "markdown",
			"metadata": {},
			"source": [
				"### Graph"
			]
		},
		{
			"cell_type": "code",
			"execution_count": null,
			"metadata": {},
			"outputs": [],
			"source": [
				"files = [\n",
				"\tf\"{packages.ROOT_PATH}/apps/context/utils/typer.py\",\n",
				"\tf\"{packages.ROOT_PATH}/apps/toolkit/utils/utils.py\",\n",
				"\tf\"{packages.ROOT_PATH}/apps/toolkit/llm/langchain/execution/tools.py\",\n",
				"\tf\"{packages.ROOT_PATH}/apps/toolkit/llm/langchain/models/messages.py\",\n",
				"\tf\"{packages.ROOT_PATH}/apps/toolkit/llm/langchain/execution/graphs.py\",\n",
				"]\n",
				"\n",
				"read_content(files)"
			]
		},
		{
			"cell_type": "code",
			"execution_count": 3,
			"metadata": {},
			"outputs": [
				{
					"name": "stdout",
					"output_type": "stream",
					"text": [
						"Content has been written to extracted_files.txt\n"
					]
				}
			],
			"source": [
				"files = [\n",
				"\tf\"{packages.ROOT_PATH}/apps/services/llm/agents/vehicle/tools/control.py\",\n",
				"\tf\"{packages.ROOT_PATH}/apps/services/llm/agents/vehicle/tools/navigation.py\",\n",
				"\tf\"{packages.ROOT_PATH}/apps/services/llm/agents/vehicle/prompts.yaml\",\n",
				"\tf\"{packages.ROOT_PATH}/apps/services/music/server.py\",\n",
				"\tf\"{packages.ROOT_PATH}/apps/services/llm/agents/vehicle/child/music.py\",\n",
				"\tf\"{packages.ROOT_PATH}/apps/services/llm/agents/vehicle/child/control.py\",\n",
				"]\n",
				"\n",
				"read_content(files)"
			]
		},
		{
			"cell_type": "markdown",
			"metadata": {},
			"source": [
				"## Others"
			]
		},
		{
			"cell_type": "markdown",
			"metadata": {},
			"source": [
				"# Back End"
			]
		},
		{
			"cell_type": "markdown",
			"metadata": {},
			"source": [
				"## Services"
			]
		},
		{
			"cell_type": "markdown",
			"metadata": {},
			"source": [
				"### Bases"
			]
		},
		{
			"cell_type": "code",
			"execution_count": null,
			"metadata": {},
			"outputs": [],
			"source": [
				"files = [\n",
				"\tf\"{packages.ROOT_PATH}/apps/services/bases/service.py\",\n",
				"\tf\"{packages.ROOT_PATH}/apps/services/bases/server.py\",\n",
				"\tf\"{packages.ROOT_PATH}/apps/services/bases/ai.py\",\n",
				"\tf\"{packages.ROOT_PATH}/apps/services/bases/example.py\",\n",
				"]\n",
				"\n",
				"read_content(files)"
			]
		},
		{
			"cell_type": "markdown",
			"metadata": {},
			"source": [
				"### WakeWord"
			]
		},
		{
			"cell_type": "code",
			"execution_count": null,
			"metadata": {},
			"outputs": [],
			"source": [
				"files = [\n",
				"\tf\"{packages.ROOT_PATH}/apps/services/audio/wake_word_detection/server.py\",\n",
				"\tf\"{packages.ROOT_PATH}/apps/services/audio/wake_word_detection/templates/ui.html\",\n",
				"\t# f\"{packages.ROOT_PATH}/apps/services/audio/wake_word_detection/impl/open_wake_word.py\",\n",
				"]\n",
				"\n",
				"read_content(files)"
			]
		},
		{
			"cell_type": "markdown",
			"metadata": {},
			"source": [
				"### TTS"
			]
		},
		{
			"cell_type": "code",
			"execution_count": null,
			"metadata": {},
			"outputs": [],
			"source": [
				"files = [\n",
				"\tf\"{packages.ROOT_PATH}/apps/services/audio/text_to_speech/core.py\",\n",
				"\tf\"{packages.ROOT_PATH}/apps/services/audio/text_to_speech/server.py\",\n",
				"\tf\"{packages.ROOT_PATH}/apps/services/audio/text_to_speech/templates/ui.html\",\n",
				"\tf\"{packages.ROOT_PATH}/apps/services/audio/text_to_speech/impl/piper.py\",\n",
				"]\n",
				"\n",
				"read_content(files)"
			]
		},
		{
			"cell_type": "code",
			"execution_count": null,
			"metadata": {},
			"outputs": [],
			"source": [
				"files = [\n",
				"\tf\"{packages.ROOT_PATH}/devops/docker/services.docker-compose.yaml\",\n",
				"\tf\"{packages.ROOT_PATH}/devops/docker/services/audio/TextToSpeech.Dockerfile\",\n",
				"]\n",
				"\n",
				"read_content(files)"
			]
		},
		{
			"cell_type": "code",
			"execution_count": null,
			"metadata": {},
			"outputs": [],
			"source": [
				"files = [\n",
				"\tf\"{packages.ROOT_PATH}/apps/services/audio/FastAPI-WWD-STT-TTS.py\",\n",
				"\tf\"{packages.ROOT_PATH}/front_end/dev/WWD_STT_TTS.vue\",\n",
				"]\n",
				"\n",
				"read_content(files)"
			]
		},
		{
			"cell_type": "code",
			"execution_count": null,
			"metadata": {},
			"outputs": [],
			"source": []
		},
		{
			"cell_type": "markdown",
			"metadata": {},
			"source": [
				"### STT"
			]
		},
		{
			"cell_type": "code",
			"execution_count": null,
			"metadata": {},
			"outputs": [],
			"source": [
				"files = [\n",
				"\tf\"{packages.ROOT_PATH}/devops/docker/services/audio/whisper_cpp.sh\",\n",
				"\tf\"{packages.ROOT_PATH}/apps/features/speech/whisper_cpp.py\",\n",
				"]\n",
				"\n",
				"read_content(files)"
			]
		},
		{
			"cell_type": "code",
			"execution_count": null,
			"metadata": {},
			"outputs": [],
			"source": [
				"files = [\n",
				"\tf\"{packages.ROOT_PATH}/devops/docker/services.docker-compose.yaml\",\n",
				"\tf\"{packages.ROOT_PATH}/devops/docker/services/audio/SpeechToText.Dockerfile\",\n",
				"]\n",
				"\n",
				"read_content(files)"
			]
		},
		{
			"cell_type": "markdown",
			"metadata": {},
			"source": [
				"### KWS"
			]
		},
		{
			"cell_type": "code",
			"execution_count": null,
			"metadata": {},
			"outputs": [],
			"source": [
				"files = [\n",
				"\tf\"{packages.ROOT_PATH}/apps/services/audio/keyword_spotting/core.py\",\n",
				"\tf\"{packages.ROOT_PATH}/apps/services/audio/keyword_spotting/server.py\",\n",
				"\tf\"{packages.ROOT_PATH}/apps/services/audio/keyword_spotting/impl/clap_ipa.py\",\n",
				"\tf\"{packages.ROOT_PATH}/apps/services/audio/keyword_spotting/templates/ui.html\",\n",
				"]\n",
				"\n",
				"read_content(files)"
			]
		},
		{
			"cell_type": "code",
			"execution_count": null,
			"metadata": {},
			"outputs": [],
			"source": [
				"files = [\n",
				"\tf\"{packages.ROOT_PATH}/apps/services/audio/keyword_spotting/requirements.txt\",\n",
				"\tf\"{packages.ROOT_PATH}/devops/docker/services/audio/KeywordSpotting.Dockerfile\",\n",
				"\tf\"{packages.ROOT_PATH}/devops/docker/services.docker-compose.yaml\",\n",
				"]\n",
				"\n",
				"read_content(files)"
			]
		},
		{
			"cell_type": "code",
			"execution_count": null,
			"metadata": {},
			"outputs": [],
			"source": [
				"files = [\n",
				"\tf\"{packages.ROOT_PATH}/apps/toolkit/llm/langchain/execution/agents.py\",\n",
				"\tf\"{packages.ROOT_PATH}/apps/context/utils/typer.py\",\n",
				"]\n",
				"\n",
				"read_content(files)"
			]
		},
		{
			"cell_type": "code",
			"execution_count": null,
			"metadata": {},
			"outputs": [],
			"source": []
		},
		{
			"cell_type": "markdown",
			"metadata": {},
			"source": [
				"### Music"
			]
		},
		{
			"cell_type": "code",
			"execution_count": 8,
			"metadata": {},
			"outputs": [
				{
					"name": "stdout",
					"output_type": "stream",
					"text": [
						"Error reading /Users/thung/Documents/Me/Coding/Embedded-AI/apps/services/music/__pycache__/packages.cpython-310.pyc: 'utf-8' codec can't decode byte 0xc2 in position 8: invalid continuation byte\n",
						"Content has been written to extracted_files.txt\n"
					]
				}
			],
			"source": [
				"files = [\n",
				"\tf\"{packages.ROOT_PATH}/apps/services/music\",\n",
				"]\n",
				"\n",
				"read_content(files)"
			]
		},
		{
			"cell_type": "markdown",
			"metadata": {},
			"source": [
				"# Tmp"
			]
		},
		{
			"cell_type": "code",
			"execution_count": null,
			"metadata": {},
			"outputs": [],
			"source": [
				"files = [\n",
				"\tf\"{packages.ROOT_PATH}/devops/docker/infra/docker-compose.yaml\",\n",
				"\tf\"{packages.ROOT_PATH}/devops/docker/services.docker-compose.yaml\",\n",
				"\tf\"{packages.ROOT_PATH}/devops/docker/apps/vehicle.docker-compose.yaml\",\n",
				"\tf\"{packages.ROOT_PATH}/apps/ports.env\",\n",
				"\tf\"{packages.ROOT_PATH}/apps/context/infra/clients.py\",\n",
				"\tf\"{packages.ROOT_PATH}/apps/context/infra/services_info.py\",\n",
				"]\n",
				"\n",
				"read_content(files)"
			]
		},
		{
			"cell_type": "code",
			"execution_count": 4,
			"metadata": {},
			"outputs": [
				{
					"name": "stdout",
					"output_type": "stream",
					"text": [
						"Error reading /Users/thung/Documents/Me/Coding/Embedded-AI/apps/tmp/VoiceDemoBot/realtime/__pycache__/model_search.cpython-310.pyc: 'utf-8' codec can't decode byte 0x98 in position 8: invalid start byte\n",
						"Error reading /Users/thung/Documents/Me/Coding/Embedded-AI/apps/tmp/VoiceDemoBot/realtime/__pycache__/azure_config.cpython-310.pyc: 'utf-8' codec can't decode byte 0x8d in position 10: invalid start byte\n",
						"Error reading /Users/thung/Documents/Me/Coding/Embedded-AI/apps/tmp/VoiceDemoBot/realtime/__pycache__/tools.cpython-311.pyc: 'utf-8' codec can't decode byte 0xa7 in position 0: invalid start byte\n",
						"Error reading /Users/thung/Documents/Me/Coding/Embedded-AI/apps/tmp/VoiceDemoBot/realtime/__pycache__/tools.cpython-310.pyc: 'utf-8' codec can't decode byte 0xf7 in position 9: invalid start byte\n",
						"Error reading /Users/thung/Documents/Me/Coding/Embedded-AI/apps/tmp/VoiceDemoBot/realtime/__pycache__/__init__.cpython-311.pyc: 'utf-8' codec can't decode byte 0xa7 in position 0: invalid start byte\n",
						"Error reading /Users/thung/Documents/Me/Coding/Embedded-AI/apps/tmp/VoiceDemoBot/realtime/__pycache__/__init__.cpython-310.pyc: 'utf-8' codec can't decode byte 0x91 in position 8: invalid start byte\n",
						"Content has been written to extracted_files.txt\n"
					]
				}
			],
			"source": [
				"files = [\n",
				"\t# f\"{packages.ROOT_PATH}/apps/services/llm/agents/vehicle\",\n",
				"\t# f\"{packages.ROOT_PATH}/apps/tmp/P3-Charge.ai\",\n",
				"\tf\"{packages.ROOT_PATH}/apps/tmp/VoiceDemoBot/realtime\",\n",
				"\tf\"{packages.ROOT_PATH}/apps/tmp/VoiceDemoBot/app.py\",\n",
				"]\n",
				"\n",
				"read_content(files)"
			]
		},
		{
			"cell_type": "code",
			"execution_count": 5,
			"metadata": {},
			"outputs": [
				{
					"name": "stdout",
					"output_type": "stream",
					"text": [
						"Invalid path: /Users/thung/Documents/Me/Coding/Embedded-AI/apps/services/audio/text_to_speech/utils.py\n",
						"Content has been written to extracted_files.txt\n"
					]
				}
			],
			"source": [
				"svcs = [\n",
				"    \"speech_to_text\",\n",
				"    \"text_to_speech\",\n",
				"]\n",
				"\n",
				"svc = svcs[1]\n",
				"\n",
				"files = [\n",
				"\tf\"{packages.ROOT_PATH}/apps/services/audio/{svc}/core.py\",\n",
				"\tf\"{packages.ROOT_PATH}/apps/services/audio/{svc}/server.py\",\n",
				"\tf\"{packages.ROOT_PATH}/apps/services/audio/{svc}/utils.py\",\n",
				"\tf\"{packages.ROOT_PATH}/apps/services/audio/{svc}/templates/ui.html\",\n",
				"\n",
				"\tf\"{packages.ROOT_PATH}/apps/services/audio/{svc}/impl/piper.py\",\n",
				"\tf\"{packages.ROOT_PATH}/apps/services/audio/{svc}/impl/openai_tts.py\",\n",
				"]\n",
				"\n",
				"read_content(files)"
			]
		},
		{
			"cell_type": "markdown",
			"metadata": {},
			"source": [
				"## UI"
			]
		},
		{
			"cell_type": "code",
			"execution_count": 3,
			"metadata": {},
			"outputs": [
				{
					"name": "stdout",
					"output_type": "stream",
					"text": [
						"Content has been written to extracted_files.txt\n"
					]
				}
			],
			"source": [
				"files = [\n",
				"\tf\"{packages.ROOT_PATH}/front_end/Components/components/vehicle\",\n",
				"\tf\"{packages.ROOT_PATH}/front_end/Components/components/Face.vue\",\n",
				"\tf\"{packages.ROOT_PATH}/front_end/Components/components/Map.vue\",\n",
				"\tf\"{packages.ROOT_PATH}/front_end/Components/components/MultiModalInput.vue\",\n",
				"\tf\"{packages.ROOT_PATH}/front_end/Components/components/Music.vue\",\n",
				"\tf\"{packages.ROOT_PATH}/front_end/Components/components/News.vue\",\n",
				"\tf\"{packages.ROOT_PATH}/front_end/Components/components/Weather.vue\",\n",
				"\tf\"{packages.ROOT_PATH}/front_end/Components/pages/index.vue\",\n",
				"]\n",
				"\n",
				"read_content(files)"
			]
		},
		{
			"cell_type": "code",
			"execution_count": null,
			"metadata": {},
			"outputs": [],
			"source": []
		}
	],
	"metadata": {
		"kernelspec": {
			"display_name": "dev",
			"language": "python",
			"name": "python3"
		},
		"language_info": {
			"codemirror_mode": {
				"name": "ipython",
				"version": 3
			},
			"file_extension": ".py",
			"mimetype": "text/x-python",
			"name": "python",
			"nbconvert_exporter": "python",
			"pygments_lexer": "ipython3",
			"version": "3.10.15"
		}
	},
	"nbformat": 4,
	"nbformat_minor": 2
}
