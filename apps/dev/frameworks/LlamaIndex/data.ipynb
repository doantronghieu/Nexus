{
	"cells": [
		{
			"cell_type": "markdown",
			"metadata": {},
			"source": [
				"# Imports"
			]
		},
		{
			"cell_type": "code",
			"execution_count": null,
			"metadata": {},
			"outputs": [],
			"source": [
				"import packages\n",
				"from configs import settings, const, components\n",
				"from configs.settings import logger\n",
				"import asyncio, os, time, yaml, json, datetime, copy, random\n",
				"from typing import Any, AsyncGenerator, Generator, Callable, Literal, Optional, TypeAlias, Union\n",
				"from tqdm import tqdm\n",
				"from pprint import pprint\n",
				"\n",
				"from toolkit.llm.llama_index import (\n",
				"\tagents, cores, deploys as dpls, evaluation, messages, models, \n",
				"\tobservability, types, utils as utils_llama_index, workflows as wfs\n",
				")\n",
				"from toolkit.llm.llama_index.data import loading, querying, storing\n",
				"\n",
				"from features.agents.car.tools import VehicleDB\n",
				"from features.agents.tools import map\n",
				"\n",
				"from toolkit.utils import utils, typer as t\n",
				"from toolkit.utils.llm import measure_performance, main as utils_llm\n",
				"from toolkit.utils.utils import rp_print"
			]
		},
		{
			"cell_type": "markdown",
			"metadata": {},
			"source": [
				"# <span style=\"color: #f59e0b;\">Dev</span>\n",
				"<span style=\"color: red;\">There is no need to run this unless you are testing the framework.</span>"
			]
		},
		{
			"cell_type": "code",
			"execution_count": null,
			"metadata": {},
			"outputs": [],
			"source": [
				"def multiply(a: float, b: float) -> float:\n",
				"\t\"\"\"\n",
				"\tMultiply two float numbers and returns the product.\n",
				"\t\"\"\"\n",
				"\treturn a * b\n",
				"\n",
				"def add(a: float, b: float) -> float:\n",
				"\t\"\"\"\n",
				"\tAdd two float numbers and returns the sum.\n",
				"\t\"\"\"\n",
				"\treturn a + b\n",
				"\n",
				"def useless(a: float, b: float) -> float:\n",
				"\t\"\"\"\n",
				"\tToy useless function.\n",
				"\t\"\"\"\n",
				"\tpass\n",
				"\n",
				"tool_multiply = agents.FunctionTool.from_defaults(fn=multiply)\n",
				"tool_add = agents.FunctionTool.from_defaults(fn=add)\n",
				"tools_useless = [\n",
				"\tagents.FunctionTool.from_defaults(fn=useless, name=f\"useless_{str(idx)}\")\n",
				"\tfor idx in range(28)\n",
				"]\n",
				"\n",
				"tools = agents.add_tools(\n",
				"\ttool_multiply,\n",
				"\ttool_add,\n",
				"\t[tools_useless],\n",
				"\t# query_plan_tool,\n",
				"\t# other agents\n",
				")\n",
				"tools_map = {tool.metadata.name: tool for tool in tools}\n",
				"\n",
				"tools_obj_index = storing.ObjectIndex.from_objects(\n",
				"\ttools, index_cls=storing.VectorStoreIndex,\n",
				")\n",
				"tool_retriever = tools_obj_index.as_retriever(similarity_top_k=2)\n",
				"\n",
				"agent = agents.AgentRunner.from_llm(\n",
				"\t# tools=tools, # use this\n",
				"\ttool_retriever=tool_retriever, # or this\n",
				"\tllm=cores.Settings.llm,\n",
				"\tverbose=True,\n",
				")\n",
				"\n",
				"# agent.achat()\n",
				"\n",
				"# agent = agents.FunctionCallingAgent.from_tools(\n",
				"# \ttools=tools,\n",
				"# \tllm=cores.Settings.llm,\n",
				"# \tverbose=True,\n",
				"# \tsystem_prompt=None,\n",
				"# \tallow_parallel_tool_calls=True,\n",
				"# )\n",
				"\n",
				"# worker = agents.FunctionCallingAgentWorker.from_tools(tools=tools, verbose=True)\n",
				"# agent = agents.StructuredPlannerAgent(worker, tools=tools, verbose=True) # take longer to respond\n",
				"\n",
				"# agent = agents.ReActAgent.from_tools(\n",
				"#   tools=tools, \n",
				"# \tllm=cores.Settings.llm,\n",
				"# \tverbose=True,\n",
				"# \tcontext=None, # System prompt\n",
				"# )\n",
				"\n",
				"# agent_worker_openai = agents.OpenAIAgentWorker.from_tools(tools=tools, verbose=True)\n",
				"# agent_openai = agents.AgentRunner(agent_worker_openai)"
			]
		},
		{
			"cell_type": "code",
			"execution_count": null,
			"metadata": {},
			"outputs": [],
			"source": [
				"queries = [\n",
				"\t\"What is 2123 * 215123\",\n",
				"\t\"What is 20+(2*4)? Use a tool to calculate every step.\",\n",
				"\t\"What is (121 * 3) + 42?\",\n",
				"\t\"What is (121 * 3) + (5 * 8)?\",\n",
				"\t(\"What is 121 * 2? Once you have the answer, \"\n",
				"   \"use that number to write a story about a group of mice.\"),\n",
				"\t\"What's 212 multiplied by 122? Make sure to use Tools\",\n",
				"\t\"What's 212 added to 122 ? Make sure to use Tools\",\t\n",
				"]"
			]
		},
		{
			"cell_type": "code",
			"execution_count": null,
			"metadata": {},
			"outputs": [],
			"source": [
				"# Usage example:\n",
				"result = await utils_llama_index.interact_agent(\n",
				"    agent=agent,\n",
				"    user_query=queries[0],\n",
				"    mode=\"achat\",\n",
				")\n",
				"\n",
				"final_result = await utils_llama_index.handle_agent_response(result)"
			]
		},
		{
			"cell_type": "code",
			"execution_count": null,
			"metadata": {},
			"outputs": [],
			"source": [
				"# Step-Wise Execution\n",
				"task = agent.create_task(queries[2])\n",
				"step_output = agent.run_step(task.task_id)\n",
				"\n",
				"if not step_output.is_last:\n",
				"\tstep_output = agent.run_step(task.task_id)\n",
				"\n",
				"result = agent.finalize_response(task.task_id)\n",
				"result = str(result)\n",
				"\n",
				"print(f\"\\n{'-'*80}\\n\")\n",
				"pprint(result)\n",
				"\n",
				"# print(f\"Tasks: {task.list_tasks()}\")\n",
				"# print(f\"Completed steps: {task.get_completed_steps(task.task_id)}\")"
			]
		},
		{
			"cell_type": "markdown",
			"metadata": {},
			"source": [
				"## My Agent Worker"
			]
		},
		{
			"cell_type": "code",
			"execution_count": null,
			"metadata": {},
			"outputs": [],
			"source": [
				"class AgentWorkerCustom(agents.CustomSimpleAgentWorker):\n",
				"\t\"\"\"\n",
				"\tAgent worker.\n",
				"\tContinues iterating until there's no errors / task is done.\n",
				" \t\"\"\"\n",
				"\n",
				"\tdef __init__(\n",
				"\t\tself,\n",
				"\t\ttools: t.List[agents.BaseTool],\n",
				"\t\t**kwargs: Any,\n",
				"\t) -> None:\n",
				"\t\t\"\"\"\n",
				"\t\tInit params.\n",
				"   \t\"\"\"\n",
				"\n",
				"\t\tself.tools = tools\n",
				"\n",
				"\t\t# Validate tools\n",
				"\n",
				"\t\tsuper().__init__(\n",
				"\t\t\ttools=self.tools,\n",
				"\t\t\t**kwargs,\n",
				"\t\t)\n",
				"\n",
				"\tdef _initialize_state(\n",
				"\t\tself, task: agents.Task, **kwargs: t.Any,\n",
				"\t) -> t.Dict[str, t.Any]:\n",
				"\t\t\"\"\"\n",
				"  \tInitialize state.\n",
				"   \t\"\"\"\n",
				"\t\treturn {\n",
				"\t\t\t\"count\": 0,\n",
				"\t\t\t\"current_reasoning\": [],\n",
				"\t\t}\n",
				"\t\n",
				"\tdef _run_step(\n",
				"\t\tself, state: t.Dict[str, t.Any], task: agents.Task, \n",
				"  \tinput: t.Optional[str] = None,\n",
				"\t) -> t.Tuple[agents.AgentChatResponse, bool]:\n",
				"\t\t\"\"\"\n",
				"\t\tRun step.\n",
				"   \t\"\"\"\n",
				"\t\tnew_input = state.get(\"new_input\", task.input)\n",
				"\n",
				"\t\tresponse = self._get_response()\n",
				"\t\t\n",
				"\t\t# Append to current reasoning\n",
				"\t\tstate[\"current_reasoning\"].extend(\n",
				"\t\t\t[\n",
				"\t\t\t\t(\"user\", new_input),\n",
				"\t\t\t\t(\"assistant\", str(response)),\n",
				"\t\t\t]\n",
				"\t\t)\n",
				"\t\n",
				"\tdef _get_response(\n",
				"\t\tself, user_query: str,\n",
				"\t):\n",
				"\t\treturn \"Hello\"\n",
				"\t\n"
			]
		},
		{
			"cell_type": "markdown",
			"metadata": {},
			"source": [
				"## JSON-based"
			]
		},
		{
			"cell_type": "markdown",
			"metadata": {},
			"source": [
				"### Basic dataset"
			]
		},
		{
			"cell_type": "code",
			"execution_count": null,
			"metadata": {},
			"outputs": [],
			"source": [
				"path_data = f\"{packages.APP_PATH}/data/org/simple\"\n",
				"path_persist = f\"{packages.APP_PATH}/data/org/test/persist\"\n",
				"\n",
				"if len(os.listdir(path_persist)) < 1:\n",
				"\tlogger.info(f\"Loading data from {path_data}\")\n",
				"\tdocuments = loading.SimpleDirectoryReader(path_data).load_data()\n",
				"\tindex = storing.VectorStoreIndex.from_documents(\n",
				"\t\tdocuments=documents, show_progress=True,\n",
				"\t)\n",
				"\tindex.storage_context.persist(persist_dir=path_persist)\n",
				"else:\n",
				"\tlogger.info(f\"Loading data from {path_persist}\")\n",
				"\tstorage_context = storing.StorageContext.from_defaults(persist_dir=path_persist)\n",
				"\tindex = storing.load_index_from_storage(storage_context)\n",
				"\n",
				"query_engine = index.as_query_engine()\n"
			]
		},
		{
			"cell_type": "markdown",
			"metadata": {},
			"source": [
				"### Car manual"
			]
		},
		{
			"cell_type": "code",
			"execution_count": null,
			"metadata": {},
			"outputs": [],
			"source": [
				"file_path = f\"{packages.APP_PATH}/data/org/test/manual_toyota_corolla_cross_2023.pdf\"\n",
				"path_persist = f\"{packages.APP_PATH}/data/org/test/persist\"\n",
				"\n",
				"if len(os.listdir(path_persist)) < 1:\n",
				"\tlogger.info(f\"Loading data from {file_path}\")\n",
				"\tloader = loading.PyMuPDFReader()\n",
				"\tdocuments = loader.load_data(file_path)\n",
				"\tindex = storing.VectorStoreIndex.from_documents(\n",
				"\t\tdocuments=documents, show_progress=True,\n",
				"\t)\n",
				"\tindex.storage_context.persist(persist_dir=path_persist)\n",
				"else:\n",
				"\tlogger.info(f\"Loading data from {path_persist}\")\n",
				"\tstorage_context = storing.StorageContext.from_defaults(persist_dir=path_persist)\n",
				"\tindex = storing.load_index_from_storage(storage_context)\n",
				"\n",
				"retriever = querying.VectorIndexRetriever(\n",
				"\tindex=index, similarity_top_k=10,\n",
				")\n",
				"\n",
				"node_postprocessors = [\n",
				"\tquerying.SimilarityPostprocessor(similarity_cutoff=0.4),\n",
				"]\n",
				"response_synthesizer = querying.get_response_synthesizer(\n",
				"\tresponse_mode=querying.ResponseMode.COMPACT, streaming=True\n",
				")\n",
				"query_engine = querying.RetrieverQueryEngine(\n",
				"\tretriever=retriever,\n",
				"\tnode_postprocessors=node_postprocessors,\n",
				"\tresponse_synthesizer=response_synthesizer,\n",
				")"
			]
		},
		{
			"cell_type": "code",
			"execution_count": null,
			"metadata": {},
			"outputs": [],
			"source": []
		},
		{
			"cell_type": "code",
			"execution_count": null,
			"metadata": {},
			"outputs": [],
			"source": []
		},
		{
			"cell_type": "markdown",
			"metadata": {},
			"source": [
				"## Qdrant"
			]
		},
		{
			"cell_type": "markdown",
			"metadata": {},
			"source": [
				"### Read directory"
			]
		},
		{
			"cell_type": "code",
			"execution_count": null,
			"metadata": {},
			"outputs": [],
			"source": [
				"path_data = f\"{packages.APP_PATH}/data/org/test\"\n",
				"path_persist = f\"{packages.APP_PATH}/data/test/persist\"\n",
				"\n",
				"parser = loading.LlamaParse(\n",
				"\tapi_key=os.getenv(\"LLAMA_CLOUD_API_KEY\"),\n",
				"\tresult_type=\"markdown\",\n",
				"\tverbose=True,\n",
				"\t# num_workers=4,\n",
				"\t# language=\"en\",\n",
				")\n",
				"file_extractor = {\n",
				"\t\".pdf\": parser,\n",
				"\t\".txt\": parser,\n",
				"}\n",
				"documents = loading.SimpleDirectoryReader(\n",
				"\tinput_dir=path_data, # or\n",
				"\t# input_files=[\"\"],\n",
				"\t# file_extractor=file_extractor,\n",
				").load_data()\n"
			]
		},
		{
			"cell_type": "markdown",
			"metadata": {},
			"source": [
				"### Read file"
			]
		},
		{
			"cell_type": "code",
			"execution_count": null,
			"metadata": {},
			"outputs": [],
			"source": [
				"file_path = f\"{packages.APP_PATH}/data/org/test/manual_toyota_corolla_cross_2023.pdf\"\n",
				"\n",
				"collection_name = settings.chosen_qdrant_collections[\"car_manual\"] # car_manual_OpenAI, car_manual_HF\n",
				"\n",
				"index = storing.get_index(\n",
				"\ttype_index=\"qdrant\",\n",
				"\tclient=settings.qdrant_client,\n",
				"\tcollection_name=collection_name,\n",
				")\n",
				"\n",
				"if index is None:\n",
				"\tlogger.info(f\"Creating data for collection: `{collection_name}`\")\n",
				"\n",
				"\t#* FILE_PATH -> DOCUMENTS ----------------------------------------------------\n",
				"\treader = loading.MyReader(file_path)\n",
				"\tdocuments = reader.load_data()\n",
				"\t#*----------------------------------------------------------------------------\n",
				"\n",
				"\tvector_store = storing.get_vector_store(\n",
				"\t\tclient=settings.qdrant_client,\n",
				"\t\tcollection_name=collection_name,\n",
				"\t\ttype_store=\"qdrant\",\n",
				"\t)\n",
				"\n",
				"\tstorage_context = storing.StorageContext.from_defaults(vector_store=vector_store)\n",
				" \n",
				"\tindex = storing.VectorStoreIndex.from_documents(\n",
				"\t\tdocuments=documents,\n",
				"\t\tstorage_context=storage_context,\n",
				"\t\tshow_progress=True,\n",
				"\t)\n",
				"\n",
				"query_toolkit = querying.get_query_toolkit_from_vector_store_index(\n",
				"\tvector_store_index=index,\n",
				")\n",
				"retriever = query_toolkit[\"retriever\"]\n",
				"\n",
				"# Add more doc: index.insert(doc)"
			]
		},
		{
			"cell_type": "markdown",
			"metadata": {},
			"source": [
				"# <span style=\"color: #1AC38DFF;\">App</span>\n",
				"\n",
				"Application-specific development workspace below\n"
			]
		},
		{
			"cell_type": "markdown",
			"metadata": {},
			"source": [
				"## Car Manual\n",
				"\n",
				"<span style=\"color:rgb(50, 99, 213);\">You simply need to execute this for RAG.</span>\n"
			]
		},
		{
			"cell_type": "code",
			"execution_count": null,
			"metadata": {},
			"outputs": [],
			"source": [
				"file_path = f\"{packages.APP_PATH}/data/org/test/manual_toyota_corolla_cross_2023.pdf\"\n",
				"\n",
				"collection_name = settings.chosen_qdrant_collections[\"car_manual\"] # car_manual_OpenAI, car_manual_HF\n",
				"\n",
				"index = storing.get_index(\n",
				"\ttype_index=\"qdrant\",\n",
				"\tclient=settings.qdrant_client,\n",
				"\tcollection_name=collection_name,\n",
				")\n",
				"\n",
				"if index is None:\n",
				"\tlogger.info(f\"Creating data for collection: `{collection_name}`\")\n",
				"\n",
				"\t#* FILE_PATH -> DOCUMENTS ----------------------------------------------------\n",
				"\treader = loading.MyReader(file_path)\n",
				"\tdocuments = reader.load_data()\n",
				"\t#*----------------------------------------------------------------------------\n",
				"\n",
				"\tvector_store = storing.get_vector_store(\n",
				"\t\tclient=settings.qdrant_client,\n",
				"\t\tcollection_name=collection_name,\n",
				"\t\ttype_store=\"qdrant\",\n",
				"\t)\n",
				"\n",
				"\tstorage_context = storing.StorageContext.from_defaults(vector_store=vector_store)\n",
				" \n",
				"\tindex = storing.VectorStoreIndex.from_documents(\n",
				"\t\tdocuments=documents,\n",
				"\t\tstorage_context=storage_context,\n",
				"\t\tshow_progress=True,\n",
				"\t)\n",
				"\n",
				"query_toolkit = querying.get_query_toolkit_from_vector_store_index(\n",
				"\tvector_store_index=index,\n",
				")\n",
				"retriever = query_toolkit[\"retriever\"]\n",
				"\n",
				"# Add more doc: index.insert(doc)"
			]
		},
		{
			"cell_type": "markdown",
			"metadata": {},
			"source": [
				"## User Query Categorization"
			]
		},
		{
			"cell_type": "markdown",
			"metadata": {},
			"source": [
				"### Process"
			]
		},
		{
			"cell_type": "code",
			"execution_count": null,
			"metadata": {},
			"outputs": [],
			"source": [
				"path_json_car_control = f\"{packages.APP_PATH}/data/QnAs/car_control.json\"\n",
				"data_json_car_control = utils.read_json_file(path_json_car_control)\n",
				"\n",
				"path_json_car_manual = f\"{packages.APP_PATH}/data/QnAs/car_manual.json\"\n",
				"data_json_car_manual = utils.read_json_file(path_json_car_manual)"
			]
		},
		{
			"cell_type": "code",
			"execution_count": null,
			"metadata": {},
			"outputs": [],
			"source": [
				"# Initialize result list\n",
				"result = []\n",
				"\n",
				"# Process car control data\n",
				"for category_data in data_json_car_control:\n",
				"    for question in category_data['questions']:\n",
				"        result.append({\n",
				"            \"user_query\": question,\n",
				"            \"user_query_category\": \"car_control\"\n",
				"        })\n",
				"\n",
				"# Process car manual data\n",
				"for manual_data in data_json_car_manual:\n",
				"    result.append({\n",
				"        \"user_query\": manual_data['question'],\n",
				"        \"user_query_category\": \"car_manual\"\n",
				"    })\n",
				"\n",
				"utils.save_to_json(result, f\"{packages.APP_PATH}/data/QnAs/user_query_category.json\")"
			]
		},
		{
			"cell_type": "markdown",
			"metadata": {},
			"source": [
				"### VectorDB"
			]
		},
		{
			"cell_type": "code",
			"execution_count": null,
			"metadata": {},
			"outputs": [],
			"source": [
				"file_path = f\"{packages.APP_PATH}/data/QnAs/user_query_category.json\"\n",
				"\n",
				"collection_name = settings.chosen_qdrant_collections[\"user_query_category\"]\n",
				"\n",
				"index = storing.get_index(\n",
				"\ttype_index=\"qdrant\",\n",
				"\tclient=settings.qdrant_client,\n",
				"\tcollection_name=collection_name,\n",
				")\n",
				"\n",
				"if index is None:\n",
				"\tlogger.info(f\"Creating data for collection: `{collection_name}`\")\n",
				"\n",
				"\t#* FILE_PATH -> DOCUMENTS ----------------------------------------------------\n",
				"\tdata_lst = utils.read_json_file(file_path)\n",
				"\tdata_lst = [str(item) for item in data_lst]\n",
				"\tdocuments = [loading.Document(text=t) for t in data_lst]\n",
				"\t#*----------------------------------------------------------------------------\n",
				"\t\n",
				"\tvector_store = storing.get_vector_store(\n",
				"\t\tclient=settings.qdrant_client,\n",
				"\t\tcollection_name=collection_name,\n",
				"\t\ttype_store=\"qdrant\",\n",
				"\t)\n",
				"\n",
				"\tstorage_context = storing.StorageContext.from_defaults(vector_store=vector_store)\n",
				" \n",
				"\tindex = storing.VectorStoreIndex.from_documents(\n",
				"\t\tdocuments=documents,\n",
				"\t\tstorage_context=storage_context,\n",
				"\t\tshow_progress=True,\n",
				"\t)\n",
				"\n",
				"query_toolkit = querying.get_query_toolkit_from_vector_store_index(\n",
				"\tvector_store_index=index, similarity_top_k=5\n",
				")\n",
				"retriever = query_toolkit[\"retriever\"]\n",
				"\n",
				"# Add more doc: index.insert(doc)"
			]
		},
		{
			"cell_type": "code",
			"execution_count": null,
			"metadata": {},
			"outputs": [],
			"source": [
				"file_paths = [\n",
				"\t# f\"{packages.APP_PATH}/data/QnAs/user_query_category1.json\",\n",
				"\tf\"{packages.APP_PATH}/data/QnAs/user_query_category-[confirmation].json\",\n",
				"]\n",
				"\n",
				"for file_path in file_paths:\n",
				"\tdata_json = utils.read_json_file(file_path)\n",
				"\tdata_json = [str(item) for item in data_json]\n",
				"\tdocuments = [loading.Document(text=t) for t in data_json]\n",
				"\n",
				"\tfor doc in tqdm(documents):\n",
				"\t\tindex.insert(doc)"
			]
		},
		{
			"cell_type": "code",
			"execution_count": null,
			"metadata": {},
			"outputs": [],
			"source": [
				"data_json[0]"
			]
		},
		{
			"cell_type": "code",
			"execution_count": null,
			"metadata": {},
			"outputs": [],
			"source": [
				"text = \"{'user_query': 'Is the car locked? Is the car trunk opened?', 'user_query_category': 'car_control'}\"\n",
				"doc = loading.Document(text=text)\n",
				"index.insert(doc)"
			]
		},
		{
			"cell_type": "code",
			"execution_count": null,
			"metadata": {},
			"outputs": [],
			"source": [
				"# user_query = \"Activate the AC mode. Increase front wiper speed. Help me Unlock doors\"\n",
				"user_query = \"Yes\"\n",
				"# result = retriever.retrieve(user_query)\n",
				"result = components.retriever_user_query_category.retrieve(user_query)\n",
				"\n",
				"(await utils_llama_index.extract_retriever_results(result))"
			]
		},
		{
			"cell_type": "markdown",
			"metadata": {},
			"source": [
				"## Car Information Field Paths"
			]
		},
		{
			"cell_type": "code",
			"execution_count": null,
			"metadata": {},
			"outputs": [],
			"source": [
				"field_paths = VehicleDB.db_mongo_vehicle.get_all_field_paths(\"v123\")[\"field_paths\"]"
			]
		},
		{
			"cell_type": "code",
			"execution_count": null,
			"metadata": {},
			"outputs": [],
			"source": [
				"collection_name = settings.chosen_qdrant_collections[\"car_info_field_paths\"]\n",
				"\n",
				"index = storing.get_index(\n",
				"\ttype_index=\"qdrant\",\n",
				"\tclient=settings.qdrant_client,\n",
				"\tcollection_name=collection_name,\n",
				")\n",
				"\n",
				"if index is None:\n",
				"\tlogger.info(f\"Creating data for collection: `{collection_name}`\")\n",
				"\n",
				"\t#* FILE_PATH -> DOCUMENTS ----------------------------------------------------\n",
				"\tdata_lst = field_paths\n",
				"\tdata_lst = [str(item) for item in data_lst]\n",
				"\tdocuments = [loading.Document(text=t) for t in data_lst]\n",
				"\t#*----------------------------------------------------------------------------\n",
				"\t\n",
				"\tvector_store = storing.get_vector_store(\n",
				"\t\tclient=settings.qdrant_client,\n",
				"\t\tcollection_name=collection_name,\n",
				"\t\ttype_store=\"qdrant\",\n",
				"\t)\n",
				"\n",
				"\tstorage_context = storing.StorageContext.from_defaults(vector_store=vector_store)\n",
				" \n",
				"\tindex = storing.VectorStoreIndex.from_documents(\n",
				"\t\tdocuments=documents,\n",
				"\t\tstorage_context=storage_context,\n",
				"\t\tshow_progress=True,\n",
				"\t)\n",
				"\n",
				"query_toolkit = querying.get_query_toolkit_from_vector_store_index(\n",
				"\tvector_store_index=index, similarity_top_k=5\n",
				")\n",
				"retriever = query_toolkit[\"retriever\"]"
			]
		}
	],
	"metadata": {
		"kernelspec": {
			"display_name": "dev",
			"language": "python",
			"name": "python3"
		},
		"language_info": {
			"codemirror_mode": {
				"name": "ipython",
				"version": 3
			},
			"file_extension": ".py",
			"mimetype": "text/x-python",
			"name": "python",
			"nbconvert_exporter": "python",
			"pygments_lexer": "ipython3",
			"version": "3.10.15"
		}
	},
	"nbformat": 4,
	"nbformat_minor": 2
}
