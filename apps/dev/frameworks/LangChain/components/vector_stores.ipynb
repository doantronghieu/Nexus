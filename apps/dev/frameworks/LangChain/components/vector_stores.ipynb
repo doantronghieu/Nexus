{
	"cells": [
		{
			"cell_type": "markdown",
			"metadata": {},
			"source": [
				"# Setup"
			]
		},
		{
			"cell_type": "markdown",
			"metadata": {},
			"source": [
				"```\n",
				"docker compose -f devops/docker/docker-compose.yaml up -d qdrant\n",
				"```"
			]
		},
		{
			"cell_type": "markdown",
			"metadata": {},
			"source": [
				"# Imports"
			]
		},
		{
			"cell_type": "code",
			"execution_count": 11,
			"metadata": {},
			"outputs": [],
			"source": [
				"import packages\n",
				"\n",
				"from context.utils import typer as t\n",
				"\n",
				"from toolkit.utils import utils\n",
				"from toolkit.utils.utils import rp_print\n",
				"\n",
				"from context.external import clients\n",
				"import context.instances as inst\n",
				"import context.consts as const\n",
				"import context.settings.main as settings_main\n",
				"\n",
				"from toolkit.llm.langchain.core import integration, utils as utils_lc\n",
				"from toolkit.llm.langchain.data.persistence import retrievers\n",
				"from toolkit.llm.langchain.data.indexing import (\n",
				"  documents, document_loaders, text_splitters,\n",
				")\n",
				"from toolkit.llm.langchain.execution import (\n",
				"  runnables, graphs, tools as tools_lc, agents\n",
				")\n",
				"from toolkit.llm.langchain.models import (\n",
				"\tprompts as prompts_lc, llms, messages as msgs_lc\n",
				")"
			]
		},
		{
			"cell_type": "code",
			"execution_count": 2,
			"metadata": {},
			"outputs": [],
			"source": [
				"# vector_store = inst.vector_store_in_memory\n",
				"vector_stores = inst.vector_stores_qdrant\n",
				"\n",
				"COLLS = settings_main.VEC_STR_COLLS\n",
				"\n",
				"llm = inst.llm_main\n",
				"embedding = inst.embedding_main"
			]
		},
		{
			"cell_type": "markdown",
			"metadata": {},
			"source": [
				"# Dev"
			]
		},
		{
			"cell_type": "markdown",
			"metadata": {},
			"source": [
				"## <span style=\"color: #f59e0b;\">Load</span>\n",
				"<span style=\"color: red;\">Only run once</span>"
			]
		},
		{
			"cell_type": "code",
			"execution_count": null,
			"metadata": {},
			"outputs": [],
			"source": [
				"# document_sample = documents.Document(\n",
				"#     page_content=\"content\",\n",
				"#     metadata={\"key\": \"value\"},\n",
				"# )\n",
				"\n",
				"# docs = [document_sample]"
			]
		},
		{
			"cell_type": "code",
			"execution_count": 3,
			"metadata": {},
			"outputs": [],
			"source": [
				"loader = document_loaders.UnstructuredPDFLoader(\n",
				"\tfile_path=f\"{packages.APP_PATH}/data/org/manual_toyota_corolla_cross_2023.pdf\",\n",
				")\n",
				"docs = loader.load()"
			]
		},
		{
			"cell_type": "code",
			"execution_count": 4,
			"metadata": {},
			"outputs": [],
			"source": [
				"# https://python.langchain.com/docs/how_to/semantic-chunker/\n",
				"text_splitter = text_splitters.SemanticChunker(\n",
				"  embeddings=embedding\n",
				")\n",
				"splits = text_splitter.split_documents(docs)"
			]
		},
		{
			"cell_type": "code",
			"execution_count": null,
			"metadata": {},
			"outputs": [],
			"source": [
				"# len_splits = len(splits)\n",
				"\n",
				"# key = \"something\"\n",
				"# value = \"something\"\n",
				"\n",
				"# for i, doc in enumerate(splits):\n",
				"# \tdoc.metadata[key] = value"
			]
		},
		{
			"cell_type": "code",
			"execution_count": 5,
			"metadata": {},
			"outputs": [],
			"source": [
				"uuids = [str(documents.uuid4()) for _ in range(len(splits))]\n",
				"document_ids = vector_stores[COLLS.CAR].add_documents(documents=splits, ids=uuids)"
			]
		},
		{
			"cell_type": "code",
			"execution_count": null,
			"metadata": {},
			"outputs": [],
			"source": [
				"# rp_print(docs)\n",
				"# print(docs[0].page_content)\n",
				"# len(docs)\n",
				"\n",
				"# len(splits)"
			]
		},
		{
			"cell_type": "markdown",
			"metadata": {},
			"source": [
				"## Query"
			]
		},
		{
			"cell_type": "code",
			"execution_count": 12,
			"metadata": {},
			"outputs": [],
			"source": [
				"questions = [\n",
				"\t\"How to Use a Seat Belt\",\n",
				"]\n",
				"\n",
				"question = questions[0]\n",
				"\n",
				"retriever = vector_stores[COLLS.CAR].as_retriever(\n",
				"\tsearch_type=retrievers.ModeRetriever.MMR,\n",
				"\tsearch_kwargs={\n",
				"\t\t\"k\": 3,\n",
				"\t}\n",
				")\n",
				"\n",
				"# retrieved_docs = vector_stores[COLLS.CAR].similarity_search_with_score(\n",
				"# \tquery=question, k=5,\n",
				"# )\n",
				"retrieved_docs = retriever.invoke(question)"
			]
		},
		{
			"cell_type": "code",
			"execution_count": null,
			"metadata": {},
			"outputs": [],
			"source": [
				"rp_print(retrieved_docs)"
			]
		},
		{
			"cell_type": "markdown",
			"metadata": {},
			"source": [
				"# Ref"
			]
		},
		{
			"cell_type": "markdown",
			"metadata": {},
			"source": [
				"- Qdrant\n",
				"  - https://qdrant.tech/documentation/guides/installation/\n",
				"  - https://python.langchain.com/docs/integrations/vectorstores/qdrant/ ⌛\n",
				"  - https://qdrant.tech/blog/qdrant-1.10.x/"
			]
		}
	],
	"metadata": {
		"kernelspec": {
			"display_name": "dev",
			"language": "python",
			"name": "python3"
		},
		"language_info": {
			"codemirror_mode": {
				"name": "ipython",
				"version": 3
			},
			"file_extension": ".py",
			"mimetype": "text/x-python",
			"name": "python",
			"nbconvert_exporter": "python",
			"pygments_lexer": "ipython3",
			"version": "3.10.15"
		}
	},
	"nbformat": 4,
	"nbformat_minor": 2
}
