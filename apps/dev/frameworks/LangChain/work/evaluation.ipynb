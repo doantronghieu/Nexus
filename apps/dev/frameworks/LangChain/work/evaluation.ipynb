{
 "cells": [
  {
   "cell_type": "markdown",
   "metadata": {
    "vscode": {
     "languageId": "plaintext"
    }
   },
   "source": [
    "# Imports"
   ]
  },
  {
   "cell_type": "code",
   "execution_count": null,
   "metadata": {
    "vscode": {
     "languageId": "plaintext"
    }
   },
   "outputs": [],
   "source": []
  },
  {
   "cell_type": "markdown",
   "metadata": {},
   "source": [
    "# Dev"
   ]
  },
  {
   "cell_type": "code",
   "execution_count": null,
   "metadata": {
    "vscode": {
     "languageId": "plaintext"
    }
   },
   "outputs": [],
   "source": []
  },
  {
   "cell_type": "markdown",
   "metadata": {},
   "source": [
    "# Refs"
   ]
  },
  {
   "cell_type": "markdown",
   "metadata": {},
   "source": [
    "- https://github.com/explodinggradients/ragas\n",
    "- https://python.langchain.com/docs/concepts/evaluation/\n",
    "- https://docs.smith.langchain.com/#evaluation\n",
    "- https://python.langchain.com/docs/concepts/why_langchain/#observability-and-evaluation\n",
    "- providers\n",
    "  - https://python.langchain.com/docs/integrations/providers/trulens\n",
    "  - https://python.langchain.com/docs/integrations/providers/comet_tracking\n",
    "- https://python.langchain.com/api_reference/langchain/evaluation.html#langchain-evaluation"
   ]
  }
 ],
 "metadata": {
  "language_info": {
   "name": "python"
  }
 },
 "nbformat": 4,
 "nbformat_minor": 2
}
