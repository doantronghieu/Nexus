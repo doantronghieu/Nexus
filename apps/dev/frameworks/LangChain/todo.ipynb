{
 "cells": [
  {
   "cell_type": "markdown",
   "metadata": {},
   "source": [
    "- https://huggingface.co/mlc-ai/DeepSeek-R1-Distill-Qwen-1.5B-q4f16_1-MLC\n",
    "- https://llm.mlc.ai/docs/"
   ]
  },
  {
   "cell_type": "markdown",
   "metadata": {
    "vscode": {
     "languageId": "plaintext"
    }
   },
   "source": [
    "- Prompt template, Multi-agents: Based on user query/task, decide if LLM should call to child agents, or it should call its tools. If not, return direct\n",
    "  - Input: \n",
    "\t```text\n",
    "\tSytem prompt (Your role, your current task, ...) information of available agents (name, description, responsibilities), information of equipped tools, User query/task + messages\n",
    "\t```\n",
    "\n",
    "  - Output: \n",
    "\t```json\n",
    "\t[\n",
    "\t\t{\n",
    "\t\t\t\"agent\": \"agent_name\",\n",
    "\t\t\t\"task\": \"task_description\"\n",
    "\t\t},\n",
    "\t\t{\n",
    "\t\t\t\"tool\": \"tool_name\",\n",
    "\t\t\t\"task\": \"task_description\" // params parsing inside tool class\n",
    "\t\t},\n",
    "\t\t{\n",
    "\t\t\t\"response\": \"response\" //  human-readable response\n",
    "\t\t},\n",
    "\t\t{\n",
    "\t\t\t\"other\": \"other\"\n",
    "\t\t}\n",
    "\t]\n",
    "\t```"
   ]
  }
 ],
 "metadata": {
  "language_info": {
   "name": "python"
  }
 },
 "nbformat": 4,
 "nbformat_minor": 2
}
