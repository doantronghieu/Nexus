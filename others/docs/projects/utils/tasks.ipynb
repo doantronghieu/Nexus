{
 "cells": [
  {
   "cell_type": "code",
   "execution_count": null,
   "metadata": {},
   "outputs": [],
   "source": [
    "# pip install openpyxl pandas"
   ]
  },
  {
   "cell_type": "code",
   "execution_count": 22,
   "metadata": {},
   "outputs": [
    {
     "name": "stdout",
     "output_type": "stream",
     "text": [
      "Sheet information exported successfully to 'sheet_info.csv'!\n"
     ]
    },
    {
     "name": "stderr",
     "output_type": "stream",
     "text": [
      "/opt/homebrew/Caskroom/miniconda/base/envs/dev/lib/python3.10/site-packages/openpyxl/worksheet/_reader.py:329: UserWarning: Data Validation extension is not supported and will be removed\n",
      "  warn(msg)\n"
     ]
    }
   ],
   "source": [
    "import openpyxl\n",
    "import pandas as pd\n",
    "from openpyxl.utils import range_boundaries\n",
    "\n",
    "# Load the workbook\n",
    "wb = openpyxl.load_workbook('your_file.xlsx', data_only=False)  # Ensure formulas are not evaluated\n",
    "\n",
    "# Create a list to store the data\n",
    "data = []\n",
    "\n",
    "# Loop through each sheet\n",
    "for sheet_name in wb.sheetnames:\n",
    "    ws = wb[sheet_name]\n",
    "    \n",
    "    # Get the header names (first row of the sheet)\n",
    "    headers = [str(cell.value) if cell.value is not None else \"Empty\" for cell in ws[1]]  # Convert headers to strings\n",
    "    \n",
    "    # Get data validation rules for the sheet\n",
    "    dv_ranges = []\n",
    "    for dv in ws.data_validations.dataValidation:\n",
    "        # Extract the ranges where data validation is applied\n",
    "        for range_str in dv.sqref.ranges:\n",
    "            dv_ranges.append(range_str)\n",
    "    \n",
    "    # Loop through each column\n",
    "    for col_idx, col in enumerate(ws.iter_cols(), start=1):\n",
    "        # Get the column name from the headers list\n",
    "        column_name = headers[col_idx - 1] if col_idx - 1 < len(headers) else f\"Column {col_idx}\"\n",
    "        \n",
    "        # Get the first row example (value from the second row, assuming row 1 is headers)\n",
    "        first_row_cell = ws.cell(row=2, column=col_idx)\n",
    "        if isinstance(first_row_cell.value, openpyxl.worksheet.formula.ArrayFormula):\n",
    "            first_row_example = first_row_cell.value.text  # Extract the formula string\n",
    "        elif first_row_cell.value and str(first_row_cell.value).startswith('='):\n",
    "            first_row_example = str(first_row_cell.value)  # Use the formula itself\n",
    "        else:\n",
    "            first_row_example = str(first_row_cell.value) if first_row_cell.value is not None else \"Empty\"  # Convert to string\n",
    "        \n",
    "        # Loop through each cell in the column\n",
    "        for cell in col:\n",
    "            # Check if the cell has a formula\n",
    "            has_formula = cell.value and str(cell.value).startswith('=')\n",
    "            \n",
    "            # Check if the cell is within any data validation range\n",
    "            has_data_validation = False\n",
    "            cell_coord = cell.coordinate\n",
    "            for range_str in dv_ranges:\n",
    "                try:\n",
    "                    min_col, min_row, max_col, max_row = range_boundaries(range_str)\n",
    "                    if (min_col <= cell.column <= max_col and\n",
    "                        min_row <= cell.row <= max_row):\n",
    "                        has_data_validation = True\n",
    "                        break\n",
    "                except (ValueError, TypeError):\n",
    "                    # Skip invalid range strings\n",
    "                    continue\n",
    "            \n",
    "            # Handle formulas\n",
    "            if isinstance(cell.value, openpyxl.worksheet.formula.ArrayFormula):\n",
    "                formula_value = cell.value.text  # Extract the formula string\n",
    "            elif has_formula:\n",
    "                formula_value = str(cell.value)  # Extract the formula string\n",
    "            else:\n",
    "                formula_value = None  # No formula\n",
    "            \n",
    "            # Append data for all cells\n",
    "            data.append({\n",
    "                'Sheet Name': sheet_name,\n",
    "                'Column Name': column_name,\n",
    "                'First Row Example': first_row_example,  # Value from the first row of the column\n",
    "                'Has Formula or Data Validation': has_formula or has_data_validation,\n",
    "                'Formula': formula_value  # Handle formulas\n",
    "            })\n",
    "\n",
    "# Convert the data to a DataFrame\n",
    "df = pd.DataFrame(data)\n",
    "\n",
    "# Group by 'Sheet Name', 'Column Name', and 'First Row Example'\n",
    "grouped = df.groupby(['Sheet Name', 'Column Name', 'First Row Example'], dropna=False).agg({\n",
    "    'Has Formula or Data Validation': 'any',  # If any row in the group has True, set to True\n",
    "    'Formula': lambda x: ', '.join(set([str(val) for val in x if val is not None]))  # Combine unique formulas\n",
    "}).reset_index()\n",
    "\n",
    "# Export to CSV\n",
    "grouped.to_csv('sheet_info.csv', index=False)\n",
    "\n",
    "print(\"Sheet information exported successfully to 'sheet_info.csv'!\")"
   ]
  }
 ],
 "metadata": {
  "kernelspec": {
   "display_name": "dev",
   "language": "python",
   "name": "python3"
  },
  "language_info": {
   "codemirror_mode": {
    "name": "ipython",
    "version": 3
   },
   "file_extension": ".py",
   "mimetype": "text/x-python",
   "name": "python",
   "nbconvert_exporter": "python",
   "pygments_lexer": "ipython3",
   "version": "3.10.15"
  }
 },
 "nbformat": 4,
 "nbformat_minor": 2
}
